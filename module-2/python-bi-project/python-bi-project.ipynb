{
 "cells": [
  {
   "cell_type": "markdown",
   "metadata": {},
   "source": [
    "# Carga de datos"
   ]
  },
  {
   "cell_type": "code",
   "execution_count": 1,
   "metadata": {},
   "outputs": [],
   "source": [
    "import pymongo\n",
    "import folium"
   ]
  },
  {
   "cell_type": "code",
   "execution_count": 2,
   "metadata": {},
   "outputs": [],
   "source": [
    "import pandas as pd\n",
    "from pandas.io.json import json_normalize\n",
    "import matplotlib.pyplot as plt\n",
    "import numpy as np\n",
    "import seaborn as sns"
   ]
  },
  {
   "cell_type": "code",
   "execution_count": 3,
   "metadata": {},
   "outputs": [],
   "source": [
    "#carga de datos:\n",
    "cliente = pymongo.MongoClient()"
   ]
  },
  {
   "cell_type": "code",
   "execution_count": 4,
   "metadata": {},
   "outputs": [
    {
     "data": {
      "text/plain": [
       "['admin', 'companies_database', 'config', 'local', 'new_database']"
      ]
     },
     "execution_count": 4,
     "metadata": {},
     "output_type": "execute_result"
    }
   ],
   "source": [
    "cliente.list_database_names()"
   ]
  },
  {
   "cell_type": "code",
   "execution_count": 5,
   "metadata": {},
   "outputs": [
    {
     "data": {
      "text/plain": [
       "Database(MongoClient(host=['localhost:27017'], document_class=dict, tz_aware=False, connect=True), 'companies_database')"
      ]
     },
     "execution_count": 5,
     "metadata": {},
     "output_type": "execute_result"
    }
   ],
   "source": [
    "db = cliente.companies_database\n",
    "db"
   ]
  },
  {
   "cell_type": "code",
   "execution_count": 6,
   "metadata": {},
   "outputs": [
    {
     "data": {
      "text/plain": [
       "Collection(Database(MongoClient(host=['localhost:27017'], document_class=dict, tz_aware=False, connect=True), 'companies_database'), 'companies')"
      ]
     },
     "execution_count": 6,
     "metadata": {},
     "output_type": "execute_result"
    }
   ],
   "source": [
    "colec = db.companies\n",
    "colec"
   ]
  },
  {
   "cell_type": "markdown",
   "metadata": {},
   "source": [
    "Exploración del archivo"
   ]
  },
  {
   "cell_type": "code",
   "execution_count": 7,
   "metadata": {},
   "outputs": [
    {
     "data": {
      "text/plain": [
       "dict_keys(['_id', 'name', 'permalink', 'crunchbase_url', 'homepage_url', 'blog_url', 'blog_feed_url', 'twitter_username', 'category_code', 'number_of_employees', 'founded_year', 'founded_month', 'founded_day', 'deadpooled_year', 'tag_list', 'alias_list', 'email_address', 'phone_number', 'description', 'created_at', 'updated_at', 'overview', 'image', 'products', 'relationships', 'competitions', 'providerships', 'total_money_raised', 'funding_rounds', 'investments', 'acquisition', 'acquisitions', 'offices', 'milestones', 'video_embeds', 'screenshots', 'external_links', 'partners'])"
      ]
     },
     "execution_count": 7,
     "metadata": {},
     "output_type": "execute_result"
    }
   ],
   "source": [
    "list(colec.find())[0].keys()"
   ]
  },
  {
   "cell_type": "markdown",
   "metadata": {},
   "source": [
    "La información que me interesa traer es:\n",
    "- name\n",
    "- category_code\n",
    "- number_of_employees\n",
    "- founded_year\n",
    "- description\n",
    "- total_money_raised\n",
    "- offices"
   ]
  },
  {
   "cell_type": "markdown",
   "metadata": {},
   "source": [
    "Extracción de datos:"
   ]
  },
  {
   "cell_type": "code",
   "execution_count": 8,
   "metadata": {},
   "outputs": [],
   "source": [
    "oficinas = colec.find({'offices':{'$not':{'$size':0}}},\n",
    "                         {'name':True,'_id':0,'category_code':1,'founded_year':1,'description':1 ,'number_of_employees':1, 'offices':1, 'total_money_raised':1})"
   ]
  },
  {
   "cell_type": "code",
   "execution_count": 9,
   "metadata": {},
   "outputs": [
    {
     "data": {
      "text/plain": [
       "[{'name': 'Wetpaint',\n",
       "  'category_code': 'web',\n",
       "  'number_of_employees': 47,\n",
       "  'founded_year': 2005,\n",
       "  'description': 'Technology Platform Company',\n",
       "  'total_money_raised': '$39.8M',\n",
       "  'offices': [{'description': '',\n",
       "    'address1': '710 - 2nd Avenue',\n",
       "    'address2': 'Suite 1100',\n",
       "    'zip_code': '98104',\n",
       "    'city': 'Seattle',\n",
       "    'state_code': 'WA',\n",
       "    'country_code': 'USA',\n",
       "    'latitude': 47.603122,\n",
       "    'longitude': -122.333253},\n",
       "   {'description': '',\n",
       "    'address1': '270 Lafayette Street',\n",
       "    'address2': 'Suite 505',\n",
       "    'zip_code': '10012',\n",
       "    'city': 'New York',\n",
       "    'state_code': 'NY',\n",
       "    'country_code': 'USA',\n",
       "    'latitude': 40.7237306,\n",
       "    'longitude': -73.9964312}]},\n",
       " {'name': 'AdventNet',\n",
       "  'category_code': 'enterprise',\n",
       "  'number_of_employees': 600,\n",
       "  'founded_year': 1996,\n",
       "  'description': 'Server Management Software',\n",
       "  'total_money_raised': '$0',\n",
       "  'offices': [{'description': 'Headquarters',\n",
       "    'address1': '4900 Hopyard Rd.',\n",
       "    'address2': 'Suite 310',\n",
       "    'zip_code': '94588',\n",
       "    'city': 'Pleasanton',\n",
       "    'state_code': 'CA',\n",
       "    'country_code': 'USA',\n",
       "    'latitude': 37.692934,\n",
       "    'longitude': -121.904945}]},\n",
       " {'name': 'Zoho',\n",
       "  'category_code': 'software',\n",
       "  'number_of_employees': 1600,\n",
       "  'founded_year': 2005,\n",
       "  'description': 'Online Business Apps Suite',\n",
       "  'total_money_raised': '$0',\n",
       "  'offices': [{'description': 'Headquarters',\n",
       "    'address1': '4900 Hopyard Rd',\n",
       "    'address2': 'Suite 310',\n",
       "    'zip_code': '94588',\n",
       "    'city': 'Pleasanton',\n",
       "    'state_code': 'CA',\n",
       "    'country_code': 'USA',\n",
       "    'latitude': 37.692934,\n",
       "    'longitude': -121.904945}]},\n",
       " {'name': 'Digg',\n",
       "  'category_code': 'news',\n",
       "  'number_of_employees': 60,\n",
       "  'founded_year': 2004,\n",
       "  'description': 'user driven social content website',\n",
       "  'total_money_raised': '$45M',\n",
       "  'offices': [{'description': None,\n",
       "    'address1': '135 Mississippi St',\n",
       "    'address2': '',\n",
       "    'zip_code': '94107',\n",
       "    'city': 'San Francisco',\n",
       "    'state_code': 'CA',\n",
       "    'country_code': 'USA',\n",
       "    'latitude': 37.764726,\n",
       "    'longitude': -122.394523}]},\n",
       " {'name': 'Facebook',\n",
       "  'category_code': 'social',\n",
       "  'number_of_employees': 5299,\n",
       "  'founded_year': 2004,\n",
       "  'description': 'Social network',\n",
       "  'total_money_raised': '$2.43B',\n",
       "  'offices': [{'description': 'Headquarters',\n",
       "    'address1': '1601 Willow Road',\n",
       "    'address2': '',\n",
       "    'zip_code': '94025',\n",
       "    'city': 'Menlo Park',\n",
       "    'state_code': 'CA',\n",
       "    'country_code': 'USA',\n",
       "    'latitude': 37.41605,\n",
       "    'longitude': -122.151801},\n",
       "   {'description': 'Europe HQ',\n",
       "    'address1': '',\n",
       "    'address2': '',\n",
       "    'zip_code': '',\n",
       "    'city': 'Dublin',\n",
       "    'state_code': None,\n",
       "    'country_code': 'IRL',\n",
       "    'latitude': 53.344104,\n",
       "    'longitude': -6.267494},\n",
       "   {'description': 'New York',\n",
       "    'address1': '340 Madison Ave',\n",
       "    'address2': '',\n",
       "    'zip_code': '10017',\n",
       "    'city': 'New York',\n",
       "    'state_code': 'NY',\n",
       "    'country_code': 'USA',\n",
       "    'latitude': 40.7557162,\n",
       "    'longitude': -73.9792469}]},\n",
       " {'name': 'Omnidrive',\n",
       "  'category_code': 'network_hosting',\n",
       "  'number_of_employees': None,\n",
       "  'founded_year': 2005,\n",
       "  'description': None,\n",
       "  'total_money_raised': '$800k',\n",
       "  'offices': [{'description': '',\n",
       "    'address1': 'Suite 200',\n",
       "    'address2': '654 High Street',\n",
       "    'zip_code': '94301',\n",
       "    'city': 'Palo Alto',\n",
       "    'state_code': 'CA',\n",
       "    'country_code': 'ISR',\n",
       "    'latitude': None,\n",
       "    'longitude': None}]},\n",
       " {'name': 'Postini',\n",
       "  'category_code': 'web',\n",
       "  'number_of_employees': None,\n",
       "  'founded_year': 1999,\n",
       "  'description': None,\n",
       "  'total_money_raised': '$0',\n",
       "  'offices': [{'description': None,\n",
       "    'address1': '959 Skyway Road, Suite 200',\n",
       "    'address2': None,\n",
       "    'zip_code': '94070',\n",
       "    'city': 'San Carlos',\n",
       "    'state_code': 'CA',\n",
       "    'country_code': 'USA',\n",
       "    'latitude': 37.506885,\n",
       "    'longitude': -122.247573}]},\n",
       " {'name': 'Geni',\n",
       "  'category_code': 'web',\n",
       "  'number_of_employees': 18,\n",
       "  'founded_year': 2006,\n",
       "  'description': 'Geneology social network site',\n",
       "  'total_money_raised': '$16.5M',\n",
       "  'offices': [{'description': 'Headquarters',\n",
       "    'address1': '9229 W. Sunset Blvd.',\n",
       "    'address2': '',\n",
       "    'zip_code': '90069',\n",
       "    'city': 'West Hollywood',\n",
       "    'state_code': 'CA',\n",
       "    'country_code': 'USA',\n",
       "    'latitude': 34.090368,\n",
       "    'longitude': -118.393064}]},\n",
       " {'name': 'Flektor',\n",
       "  'category_code': 'games_video',\n",
       "  'number_of_employees': None,\n",
       "  'founded_year': None,\n",
       "  'description': None,\n",
       "  'total_money_raised': '$0',\n",
       "  'offices': [{'description': None,\n",
       "    'address1': '8536 National Blvd, Suite A',\n",
       "    'address2': None,\n",
       "    'zip_code': '90232',\n",
       "    'city': 'Culver City',\n",
       "    'state_code': 'CA',\n",
       "    'country_code': 'USA',\n",
       "    'latitude': 34.025958,\n",
       "    'longitude': -118.379768}]},\n",
       " {'name': 'Fox Interactive Media',\n",
       "  'category_code': 'web',\n",
       "  'number_of_employees': 0,\n",
       "  'founded_year': 1979,\n",
       "  'description': '',\n",
       "  'total_money_raised': '$0',\n",
       "  'offices': [{'description': '',\n",
       "    'address1': '407 N Maple Dr',\n",
       "    'address2': '',\n",
       "    'zip_code': '90210',\n",
       "    'city': 'Beverly Hills',\n",
       "    'state_code': 'CA',\n",
       "    'country_code': 'USA',\n",
       "    'latitude': 34.076179,\n",
       "    'longitude': -118.39417}]}]"
      ]
     },
     "execution_count": 9,
     "metadata": {},
     "output_type": "execute_result"
    }
   ],
   "source": [
    "si_oficinas = list(oficinas)\n",
    "si_oficinas[:10]"
   ]
  },
  {
   "cell_type": "code",
   "execution_count": 10,
   "metadata": {},
   "outputs": [
    {
     "data": {
      "text/html": [
       "<div>\n",
       "<style scoped>\n",
       "    .dataframe tbody tr th:only-of-type {\n",
       "        vertical-align: middle;\n",
       "    }\n",
       "\n",
       "    .dataframe tbody tr th {\n",
       "        vertical-align: top;\n",
       "    }\n",
       "\n",
       "    .dataframe thead th {\n",
       "        text-align: right;\n",
       "    }\n",
       "</style>\n",
       "<table border=\"1\" class=\"dataframe\">\n",
       "  <thead>\n",
       "    <tr style=\"text-align: right;\">\n",
       "      <th></th>\n",
       "      <th>name</th>\n",
       "      <th>category_code</th>\n",
       "      <th>number_of_employees</th>\n",
       "      <th>founded_year</th>\n",
       "      <th>description</th>\n",
       "      <th>total_money_raised</th>\n",
       "      <th>offices</th>\n",
       "    </tr>\n",
       "  </thead>\n",
       "  <tbody>\n",
       "    <tr>\n",
       "      <th>0</th>\n",
       "      <td>Wetpaint</td>\n",
       "      <td>web</td>\n",
       "      <td>47.0</td>\n",
       "      <td>2005.0</td>\n",
       "      <td>Technology Platform Company</td>\n",
       "      <td>$39.8M</td>\n",
       "      <td>[{'description': '', 'address1': '710 - 2nd Av...</td>\n",
       "    </tr>\n",
       "    <tr>\n",
       "      <th>1</th>\n",
       "      <td>AdventNet</td>\n",
       "      <td>enterprise</td>\n",
       "      <td>600.0</td>\n",
       "      <td>1996.0</td>\n",
       "      <td>Server Management Software</td>\n",
       "      <td>$0</td>\n",
       "      <td>[{'description': 'Headquarters', 'address1': '...</td>\n",
       "    </tr>\n",
       "    <tr>\n",
       "      <th>2</th>\n",
       "      <td>Zoho</td>\n",
       "      <td>software</td>\n",
       "      <td>1600.0</td>\n",
       "      <td>2005.0</td>\n",
       "      <td>Online Business Apps Suite</td>\n",
       "      <td>$0</td>\n",
       "      <td>[{'description': 'Headquarters', 'address1': '...</td>\n",
       "    </tr>\n",
       "    <tr>\n",
       "      <th>3</th>\n",
       "      <td>Digg</td>\n",
       "      <td>news</td>\n",
       "      <td>60.0</td>\n",
       "      <td>2004.0</td>\n",
       "      <td>user driven social content website</td>\n",
       "      <td>$45M</td>\n",
       "      <td>[{'description': None, 'address1': '135 Missis...</td>\n",
       "    </tr>\n",
       "    <tr>\n",
       "      <th>4</th>\n",
       "      <td>Facebook</td>\n",
       "      <td>social</td>\n",
       "      <td>5299.0</td>\n",
       "      <td>2004.0</td>\n",
       "      <td>Social network</td>\n",
       "      <td>$2.43B</td>\n",
       "      <td>[{'description': 'Headquarters', 'address1': '...</td>\n",
       "    </tr>\n",
       "    <tr>\n",
       "      <th>...</th>\n",
       "      <td>...</td>\n",
       "      <td>...</td>\n",
       "      <td>...</td>\n",
       "      <td>...</td>\n",
       "      <td>...</td>\n",
       "      <td>...</td>\n",
       "      <td>...</td>\n",
       "    </tr>\n",
       "    <tr>\n",
       "      <th>13739</th>\n",
       "      <td>Oriact</td>\n",
       "      <td>software</td>\n",
       "      <td>NaN</td>\n",
       "      <td>2009.0</td>\n",
       "      <td>Solutions for software development</td>\n",
       "      <td>$0</td>\n",
       "      <td>[{'description': '', 'address1': 'LÃ¤rchenweg ...</td>\n",
       "    </tr>\n",
       "    <tr>\n",
       "      <th>13740</th>\n",
       "      <td>Adhunk</td>\n",
       "      <td>advertising</td>\n",
       "      <td>3.0</td>\n",
       "      <td>2009.0</td>\n",
       "      <td>Online Admanager</td>\n",
       "      <td>$0</td>\n",
       "      <td>[{'description': 'Indian Office', 'address1': ...</td>\n",
       "    </tr>\n",
       "    <tr>\n",
       "      <th>13741</th>\n",
       "      <td>AfterLogic</td>\n",
       "      <td>software</td>\n",
       "      <td>NaN</td>\n",
       "      <td>2002.0</td>\n",
       "      <td>.NET Email Components and Webmail</td>\n",
       "      <td>$0</td>\n",
       "      <td>[{'description': 'Livingston', 'address1': 'P....</td>\n",
       "    </tr>\n",
       "    <tr>\n",
       "      <th>13742</th>\n",
       "      <td>EnteGreat Solutions</td>\n",
       "      <td>software</td>\n",
       "      <td>NaN</td>\n",
       "      <td>NaN</td>\n",
       "      <td></td>\n",
       "      <td>$0</td>\n",
       "      <td>[{'description': '', 'address1': '', 'address2...</td>\n",
       "    </tr>\n",
       "    <tr>\n",
       "      <th>13743</th>\n",
       "      <td>EnteGreat</td>\n",
       "      <td>enterprise</td>\n",
       "      <td>NaN</td>\n",
       "      <td>2000.0</td>\n",
       "      <td></td>\n",
       "      <td>$0</td>\n",
       "      <td>[{'description': '', 'address1': '1900 Interna...</td>\n",
       "    </tr>\n",
       "  </tbody>\n",
       "</table>\n",
       "<p>13744 rows × 7 columns</p>\n",
       "</div>"
      ],
      "text/plain": [
       "                      name category_code  number_of_employees  founded_year  \\\n",
       "0                 Wetpaint           web                 47.0        2005.0   \n",
       "1                AdventNet    enterprise                600.0        1996.0   \n",
       "2                     Zoho      software               1600.0        2005.0   \n",
       "3                     Digg          news                 60.0        2004.0   \n",
       "4                 Facebook        social               5299.0        2004.0   \n",
       "...                    ...           ...                  ...           ...   \n",
       "13739               Oriact      software                  NaN        2009.0   \n",
       "13740               Adhunk   advertising                  3.0        2009.0   \n",
       "13741           AfterLogic      software                  NaN        2002.0   \n",
       "13742  EnteGreat Solutions      software                  NaN           NaN   \n",
       "13743            EnteGreat    enterprise                  NaN        2000.0   \n",
       "\n",
       "                              description total_money_raised  \\\n",
       "0             Technology Platform Company             $39.8M   \n",
       "1              Server Management Software                 $0   \n",
       "2              Online Business Apps Suite                 $0   \n",
       "3      user driven social content website               $45M   \n",
       "4                          Social network             $2.43B   \n",
       "...                                   ...                ...   \n",
       "13739  Solutions for software development                 $0   \n",
       "13740                    Online Admanager                 $0   \n",
       "13741   .NET Email Components and Webmail                 $0   \n",
       "13742                                                     $0   \n",
       "13743                                                     $0   \n",
       "\n",
       "                                                 offices  \n",
       "0      [{'description': '', 'address1': '710 - 2nd Av...  \n",
       "1      [{'description': 'Headquarters', 'address1': '...  \n",
       "2      [{'description': 'Headquarters', 'address1': '...  \n",
       "3      [{'description': None, 'address1': '135 Missis...  \n",
       "4      [{'description': 'Headquarters', 'address1': '...  \n",
       "...                                                  ...  \n",
       "13739  [{'description': '', 'address1': 'LÃ¤rchenweg ...  \n",
       "13740  [{'description': 'Indian Office', 'address1': ...  \n",
       "13741  [{'description': 'Livingston', 'address1': 'P....  \n",
       "13742  [{'description': '', 'address1': '', 'address2...  \n",
       "13743  [{'description': '', 'address1': '1900 Interna...  \n",
       "\n",
       "[13744 rows x 7 columns]"
      ]
     },
     "execution_count": 10,
     "metadata": {},
     "output_type": "execute_result"
    }
   ],
   "source": [
    "df = pd.DataFrame(si_oficinas)\n",
    "df"
   ]
  },
  {
   "cell_type": "markdown",
   "metadata": {},
   "source": [
    "Creación de listas a partir del df"
   ]
  },
  {
   "cell_type": "code",
   "execution_count": 11,
   "metadata": {},
   "outputs": [
    {
     "name": "stderr",
     "output_type": "stream",
     "text": [
      "<ipython-input-11-8cb739a93598>:1: FutureWarning: pandas.io.json.json_normalize is deprecated, use pandas.json_normalize instead\n",
      "  list_address = [json_normalize(i) for i in df['offices']]\n"
     ]
    }
   ],
   "source": [
    "list_address = [json_normalize(i) for i in df['offices']]"
   ]
  },
  {
   "cell_type": "code",
   "execution_count": 12,
   "metadata": {},
   "outputs": [],
   "source": [
    "list_names = list(df['name'])"
   ]
  },
  {
   "cell_type": "code",
   "execution_count": 13,
   "metadata": {},
   "outputs": [
    {
     "name": "stdout",
     "output_type": "stream",
     "text": [
      "13744 13744\n"
     ]
    }
   ],
   "source": [
    "#verificamos longitud del json_normalize:\n",
    "\n",
    "print(len(list_names),len(list_address))"
   ]
  },
  {
   "cell_type": "code",
   "execution_count": 14,
   "metadata": {},
   "outputs": [],
   "source": [
    "#unimos las dos listas\n",
    "zip_name_df = list(zip(list_names,list_address))"
   ]
  },
  {
   "cell_type": "code",
   "execution_count": 15,
   "metadata": {},
   "outputs": [],
   "source": [
    "for i in zip_name_df:\n",
    "    i[1]['name'] = i[0] #cambiarle a company (después)"
   ]
  },
  {
   "cell_type": "code",
   "execution_count": null,
   "metadata": {},
   "outputs": [],
   "source": [
    "concat_df = pd.DataFrame()\n",
    "for i in range(len(zip_name_df)):\n",
    "    concat_df = pd.concat([concat_df, zip_name_df[i][1]])"
   ]
  },
  {
   "cell_type": "code",
   "execution_count": null,
   "metadata": {},
   "outputs": [],
   "source": [
    "#Unes usando 'name' como llave \n",
    "# el df con las direcciones expandidas con el df original\n",
    "df_expandido = pd.merge(df, concat_df, on = 'name')"
   ]
  },
  {
   "cell_type": "code",
   "execution_count": null,
   "metadata": {},
   "outputs": [],
   "source": [
    "df_expandido.head()"
   ]
  },
  {
   "cell_type": "markdown",
   "metadata": {},
   "source": [
    "# Limpieza de datos"
   ]
  },
  {
   "cell_type": "code",
   "execution_count": null,
   "metadata": {},
   "outputs": [],
   "source": [
    "df = df_expandido\n",
    "df.dtypes"
   ]
  },
  {
   "cell_type": "markdown",
   "metadata": {},
   "source": [
    "Se eliminara la columna de offices, pues ya no se necesita.\n",
    "También se cambiará el orden de varias columnas."
   ]
  },
  {
   "cell_type": "markdown",
   "metadata": {},
   "source": [
    "# Exploración"
   ]
  },
  {
   "cell_type": "code",
   "execution_count": null,
   "metadata": {},
   "outputs": [],
   "source": [
    "df['category_code'].unique()"
   ]
  },
  {
   "cell_type": "markdown",
   "metadata": {},
   "source": [
    "voy a buscar información de empresas en las categorías de:\n",
    " - analytics\n",
    " - finance\n",
    " - ecommerce\n",
    " - real_state\n",
    " - biotech\n",
    " - cleantech\n",
    " - health"
   ]
  },
  {
   "cell_type": "code",
   "execution_count": null,
   "metadata": {},
   "outputs": [],
   "source": [
    "df['category_code'].value_counts().plot.bar();"
   ]
  },
  {
   "cell_type": "markdown",
   "metadata": {},
   "source": [
    "definir DataFrame acotado a los sectores de interes:"
   ]
  },
  {
   "cell_type": "code",
   "execution_count": null,
   "metadata": {},
   "outputs": [],
   "source": [
    "categories = ['software','finance','ecommerce','biotech','cleantech','analytics','real_state']"
   ]
  },
  {
   "cell_type": "raw",
   "metadata": {},
   "source": [
    "# revisar\n",
    "for i in categories:\n",
    "    df_interest += df[df['category_code'] == categories[i]]\n",
    "    \n",
    "for i in categories:\n",
    "    df_interest += df_interest.append(df[df['category_code'] == i],ignore_index = True)"
   ]
  },
  {
   "cell_type": "code",
   "execution_count": null,
   "metadata": {},
   "outputs": [],
   "source": [
    "df_interest = df[df['category_code']=='analytics']"
   ]
  },
  {
   "cell_type": "code",
   "execution_count": null,
   "metadata": {},
   "outputs": [],
   "source": [
    "df_interest"
   ]
  },
  {
   "cell_type": "markdown",
   "metadata": {},
   "source": [
    "# Gráficas"
   ]
  },
  {
   "cell_type": "markdown",
   "metadata": {},
   "source": [
    "### Plot 1"
   ]
  },
  {
   "cell_type": "code",
   "execution_count": null,
   "metadata": {},
   "outputs": [],
   "source": [
    "df_interest['country_code'].value_counts().plot.bar();"
   ]
  },
  {
   "cell_type": "markdown",
   "metadata": {},
   "source": [
    "### Plot 2"
   ]
  },
  {
   "cell_type": "code",
   "execution_count": null,
   "metadata": {},
   "outputs": [],
   "source": [
    "df_coordinates = df_interest[['latitude','longitude','name']] # cambiarle a company después"
   ]
  },
  {
   "cell_type": "code",
   "execution_count": null,
   "metadata": {},
   "outputs": [],
   "source": [
    "df_coordinates.info()"
   ]
  },
  {
   "cell_type": "markdown",
   "metadata": {},
   "source": [
    "eliminar aquellos que no tienen valores nulos"
   ]
  },
  {
   "cell_type": "code",
   "execution_count": null,
   "metadata": {},
   "outputs": [],
   "source": [
    "df_coord_clean = df_coordinates.dropna(axis=0, how='any', thresh=None, subset=None, inplace=False)"
   ]
  },
  {
   "cell_type": "code",
   "execution_count": null,
   "metadata": {},
   "outputs": [],
   "source": [
    "df_coord_clean"
   ]
  },
  {
   "cell_type": "code",
   "execution_count": null,
   "metadata": {},
   "outputs": [],
   "source": [
    "lat = list(df_coord_clean['latitude'])\n",
    "lng = list(df_coord_clean['longitude'])\n"
   ]
  },
  {
   "cell_type": "code",
   "execution_count": null,
   "metadata": {},
   "outputs": [],
   "source": [
    "mapa = folium.Map(tiles='Stamen Terrain')"
   ]
  },
  {
   "cell_type": "code",
   "execution_count": null,
   "metadata": {},
   "outputs": [],
   "source": [
    "for i in range(len(lat)):\n",
    "    folium.Marker([lat[i], lng[i]], icon=folium.Icon(color='red'),popup = '<b>Estos son popups!!</b>', tooltip = 'tooltip').add_to(mapa)\n",
    "    \n",
    "mapa"
   ]
  },
  {
   "cell_type": "markdown",
   "metadata": {},
   "source": [
    "### Plot 3"
   ]
  },
  {
   "cell_type": "code",
   "execution_count": null,
   "metadata": {},
   "outputs": [],
   "source": [
    "map2 = folium.Map(location=[38, -97], zoom_start=4) # centro geográfico"
   ]
  },
  {
   "cell_type": "code",
   "execution_count": null,
   "metadata": {},
   "outputs": [],
   "source": [
    "for i in range(len(lat)):\n",
    "    folium.Marker([lat[i], lng[i]], icon=folium.Icon(color='red'),popup = '<b>Estos son popups!!</b>', tooltip = 'tooltip').add_to(map2)\n",
    "    \n",
    "map2"
   ]
  },
  {
   "cell_type": "markdown",
   "metadata": {},
   "source": [
    "### Plot 4"
   ]
  },
  {
   "cell_type": "code",
   "execution_count": null,
   "metadata": {},
   "outputs": [],
   "source": [
    "df_estado =  df_interest[['name','city','state_code','country_code']]\n",
    "df_usa = df_estado.loc[df_estado['country_code'] == 'USA'] "
   ]
  },
  {
   "cell_type": "code",
   "execution_count": null,
   "metadata": {},
   "outputs": [],
   "source": [
    "df_usa['state_code'].value_counts().plot.pie(y='number', figsize=(20,10),autopct='%1.1f%%')\n",
    "#plt.title('Las 15 ciudades con más empresas millenials y menos de 200 empleados');"
   ]
  },
  {
   "cell_type": "markdown",
   "metadata": {},
   "source": [
    "### Plot 5"
   ]
  },
  {
   "cell_type": "code",
   "execution_count": null,
   "metadata": {},
   "outputs": [],
   "source": [
    "df_usa[df_usa['state_code']=='CA']['city'].value_counts()[:15].plot(kind='barh')\n",
    "plt.title('Top 15 ciudades con más creación de empresas de ecommerce');"
   ]
  },
  {
   "cell_type": "markdown",
   "metadata": {},
   "source": [
    "# Notas adicionales:"
   ]
  },
  {
   "cell_type": "markdown",
   "metadata": {},
   "source": [
    "Existe un 'exodo' de empresas, inversionistas y founders de San Francisco a Austin,TX y Miami,FL\n",
    "\n",
    "https://techcrunch.com/2021/02/03/miami-wont-be-the-next-silicon-valley-because-we-dont-need-another-one/"
   ]
  }
 ],
 "metadata": {
  "kernelspec": {
   "display_name": "Python 3",
   "language": "python",
   "name": "python3"
  },
  "language_info": {
   "codemirror_mode": {
    "name": "ipython",
    "version": 3
   },
   "file_extension": ".py",
   "mimetype": "text/x-python",
   "name": "python",
   "nbconvert_exporter": "python",
   "pygments_lexer": "ipython3",
   "version": "3.9.0"
  }
 },
 "nbformat": 4,
 "nbformat_minor": 4
}
