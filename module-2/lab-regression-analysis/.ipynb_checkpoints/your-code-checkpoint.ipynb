{
 "cells": [
  {
   "cell_type": "markdown",
   "metadata": {},
   "source": [
    "# Lab: Regression Analysis"
   ]
  },
  {
   "cell_type": "markdown",
   "metadata": {},
   "source": [
    "### Before you start:\n",
    "\n",
    "* Read the README.md file\n",
    "* Comment as much as you can and use the resources (README.md file) \n",
    "\n",
    "Happy learning!"
   ]
  },
  {
   "cell_type": "code",
   "execution_count": 6,
   "metadata": {},
   "outputs": [],
   "source": [
    "import pandas as pd\n",
    "import numpy as np\n",
    "import matplotlib.pyplot as plt\n",
    "import seaborn as sns\n",
    "%matplotlib inline\n",
    "from scipy.stats import pearsonr\n",
    "from sklearn.linear_model import LinearRegression\n",
    "from sklearn.model_selection import train_test_split\n",
    "from sklearn.metrics import r2_score, mean_squared_error\n",
    "import statsmodels.api as sm\n",
    "import statsmodels.formula.api as smf"
   ]
  },
  {
   "cell_type": "markdown",
   "metadata": {},
   "source": [
    "## Challenge 1\n",
    "I work at a coding bootcamp, and I have developed a theory that the younger my students are, the more often they are late to class. In order to test my hypothesis, I have collected some data in the following table:\n",
    "\n",
    "| StudentID | Age | Tardies |\n",
    "|--------|-----|------------|\n",
    "| 1      | 17  | 10         |\n",
    "| 2      | 51  | 1          |\n",
    "| 3      | 27  | 5          |\n",
    "| 4      | 21  | 9         |\n",
    "| 5      | 36  |  4         |\n",
    "| 6      | 48  |  2         |\n",
    "| 7      | 19  |  9         |\n",
    "| 8      | 26  | 6          |\n",
    "| 9      | 54  |  0         |\n",
    "| 10     | 30  |  3         |"
   ]
  },
  {
   "cell_type": "markdown",
   "metadata": {},
   "source": [
    "Use this command to create a dataframe with the data provided in the table. \n",
    "~~~~\n",
    "student_data = pd.DataFrame({'X': [x_values], 'Y': [y_values]})\n",
    "~~~~"
   ]
  },
  {
   "cell_type": "code",
   "execution_count": 7,
   "metadata": {},
   "outputs": [],
   "source": [
    "student_data = pd.DataFrame({'Age':[17,51,27,21,36,48,19,26,54,30],'Tardies':[10,1,5,9,4,2,9,6,0,3]})"
   ]
  },
  {
   "cell_type": "markdown",
   "metadata": {},
   "source": [
    "Draw a dispersion diagram (scatter plot) for the data."
   ]
  },
  {
   "cell_type": "code",
   "execution_count": 8,
   "metadata": {},
   "outputs": [
    {
     "data": {
      "image/png": "[encoded data removed]",
      "text/plain": [
       "<Figure size 432x288 with 1 Axes>"
      ]
     },
     "metadata": {
      "needs_background": "light"
     },
     "output_type": "display_data"
    }
   ],
   "source": [
    "sns.scatterplot(data = student_data, x = 'Age', y = 'Tardies');"
   ]
  },
  {
   "cell_type": "markdown",
   "metadata": {},
   "source": [
    "Do you see a trend? Can you make any hypotheses about the relationship between age and number of tardies?"
   ]
  },
  {
   "cell_type": "code",
   "execution_count": 2,
   "metadata": {},
   "outputs": [],
   "source": [
    "# Al parecer sí existe una relación inversa entre la edad y el número de \n",
    "# retardos que tiene un estudiante."
   ]
  },
  {
   "cell_type": "markdown",
   "metadata": {},
   "source": [
    "Calculate the covariance and correlation of the variables in your plot. What is the difference between these two measures? Compare their values. What do they tell you in this case? Add your responses as comments after your code."
   ]
  },
  {
   "cell_type": "code",
   "execution_count": 67,
   "metadata": {},
   "outputs": [
    {
     "name": "stdout",
     "output_type": "stream",
     "text": [
      "              Age   Tardies\n",
      "Age      1.000000 -0.939163\n",
      "Tardies -0.939163  1.000000\n"
     ]
    }
   ],
   "source": [
    "#Correlation\n",
    "corr = student_data.corr()\n",
    "mask = np.triu(np.ones_like(corr, dtype = np.bool))\n",
    "print(corr)"
   ]
  },
  {
   "cell_type": "code",
   "execution_count": 68,
   "metadata": {},
   "outputs": [
    {
     "name": "stdout",
     "output_type": "stream",
     "text": [
      "-45.56666666666666\n"
     ]
    }
   ],
   "source": [
    "# Covariance\n",
    "covariance = np.cov(student_data.Age, student_data.Tardies)[0,1]\n",
    "print(covariance)"
   ]
  },
  {
   "cell_type": "code",
   "execution_count": 62,
   "metadata": {},
   "outputs": [
    {
     "data": {
      "text/plain": [
       "<AxesSubplot:>"
      ]
     },
     "execution_count": 62,
     "metadata": {},
     "output_type": "execute_result"
    },
    {
     "data": {
      "image/png": "[encoded data removed]",
      "text/plain": [
       "<Figure size 576x216 with 2 Axes>"
      ]
     },
     "metadata": {
      "needs_background": "light"
     },
     "output_type": "display_data"
    }
   ],
   "source": [
    "# Heatmap\n",
    "f, ax = plt.subplots(figsize = (8,3))\n",
    "camp = sns.diverging_palette(150, 100, as_cmap = True)\n",
    "sns.heatmap(corr, annot=True, mask = mask)"
   ]
  },
  {
   "cell_type": "markdown",
   "metadata": {},
   "source": [
    "Build a regression model for this data. What will be your outcome variable? What type of regression are you using? Add your responses as comments after your code."
   ]
  },
  {
   "cell_type": "code",
   "execution_count": 29,
   "metadata": {},
   "outputs": [],
   "source": [
    "# Your response here.\n",
    "y = student_data['Tardies']\n",
    "X = student_data['Age']\n",
    "X_train, X_test, y_train, y_test = train_test_split(X.values.reshape(-1,1),\n",
    "                                                    y,\n",
    "                                                    train_size = 0.8,\n",
    "                                                    random_state = 1234,\n",
    "                                                    shuffle = True\n",
    "                                                   )\n",
    "#Creamos todo el modeolo con las x de entrenamiento y luego con las otras\n",
    "# para generar una predicción.\n"
   ]
  },
  {
   "cell_type": "code",
   "execution_count": 30,
   "metadata": {},
   "outputs": [
    {
     "data": {
      "text/plain": [
       "LinearRegression()"
      ]
     },
     "execution_count": 30,
     "metadata": {},
     "output_type": "execute_result"
    }
   ],
   "source": [
    "# Creación del model\n",
    "\n",
    "modelo = LinearRegression()\n",
    "modelo.fit(X = X_train, y = y_train)"
   ]
  },
  {
   "cell_type": "code",
   "execution_count": 36,
   "metadata": {},
   "outputs": [
    {
     "name": "stdout",
     "output_type": "stream",
     "text": [
      "Intercept: 13.451134930643128 \n",
      "Coeficiente: [-0.25220681] \n",
      "Coeficiente de determinación R^2 0.8750153300379073\n"
     ]
    }
   ],
   "source": [
    "# Información del modelo de regresión lieanl\n",
    "print(\n",
    "\"Intercept:\",modelo.intercept_,\n",
    "'\\nCoeficiente:',modelo.coef_.flatten(),\n",
    "'\\nCoeficiente de determinación R^2',modelo.score(X.values.reshape(-1,1),y)\n",
    "    )"
   ]
  },
  {
   "cell_type": "code",
   "execution_count": null,
   "metadata": {},
   "outputs": [],
   "source": [
    "#comprobación\n",
    "13.451134930643128+(-0.25220681*(26))"
   ]
  },
  {
   "cell_type": "markdown",
   "metadata": {},
   "source": [
    "Plot your regression model on your scatter plot."
   ]
  },
  {
   "cell_type": "code",
   "execution_count": 38,
   "metadata": {},
   "outputs": [
    {
     "data": {
      "image/png": "[encoded data removed]",
      "text/plain": [
       "<Figure size 360x360 with 1 Axes>"
      ]
     },
     "metadata": {
      "needs_background": "light"
     },
     "output_type": "display_data"
    }
   ],
   "source": [
    "# Your code here.\n",
    "sns.lmplot(data=student_data, x = 'Age', y = 'Tardies');"
   ]
  },
  {
   "cell_type": "markdown",
   "metadata": {},
   "source": [
    "Comprobación de modelo predictivo:"
   ]
  },
  {
   "cell_type": "code",
   "execution_count": 39,
   "metadata": {},
   "outputs": [
    {
     "data": {
      "text/plain": [
       "array([[26],\n",
       "       [27]], dtype=int64)"
      ]
     },
     "execution_count": 39,
     "metadata": {},
     "output_type": "execute_result"
    }
   ],
   "source": [
    "X_test"
   ]
  },
  {
   "cell_type": "code",
   "execution_count": 40,
   "metadata": {},
   "outputs": [
    {
     "data": {
      "text/plain": [
       "7    6\n",
       "2    5\n",
       "Name: Tardies, dtype: int64"
      ]
     },
     "execution_count": 40,
     "metadata": {},
     "output_type": "execute_result"
    }
   ],
   "source": [
    "y_test"
   ]
  },
  {
   "cell_type": "code",
   "execution_count": 41,
   "metadata": {},
   "outputs": [
    {
     "data": {
      "text/plain": [
       "array([6.89375788, 6.64155107])"
      ]
     },
     "execution_count": 41,
     "metadata": {},
     "output_type": "execute_result"
    }
   ],
   "source": [
    "modelo.predict(X = X_test)"
   ]
  },
  {
   "cell_type": "markdown",
   "metadata": {},
   "source": [
    "Interpret the results of your model. What can conclusions can you draw from your model and how confident in these conclusions are you? Can we say that age is a good predictor of tardiness? Add your responses as comments after your code."
   ]
  },
  {
   "cell_type": "code",
   "execution_count": 69,
   "metadata": {},
   "outputs": [],
   "source": [
    "# Your response here. \n",
    "\n",
    "# Existe una relación inversamente proporcional entre la edad y los retardos.\n",
    "# Se puede afirmar que la edad es un buen predictor de la probabilidad de que un\n",
    "# estudiante llegue tarde."
   ]
  },
  {
   "cell_type": "markdown",
   "metadata": {},
   "source": [
    "## Challenge 2\n",
    "For the second part of this lab, we will use the vehicles.csv data set. You can find a copy of the dataset in the git hub folder. This dataset includes variables related to vehicle characteristics, including the model, make, and energy efficiency standards, as well as each car's CO2 emissions. As discussed in class the goal of this exercise is to predict vehicles' CO2 emissions based on several independent variables. "
   ]
  },
  {
   "cell_type": "code",
   "execution_count": 42,
   "metadata": {},
   "outputs": [],
   "source": [
    "# Import any libraries you may need & the data\n",
    "vehicles = pd.read_csv('vehicles.csv')"
   ]
  },
  {
   "cell_type": "markdown",
   "metadata": {},
   "source": [
    "Let's use the following variables for our analysis: Year, Cylinders, Fuel Barrels/Year, Combined MPG, and Fuel Cost/Year. We will use 'CO2 Emission Grams/Mile' as our outcome variable. \n",
    "\n",
    "Calculate the correlations between each of these variables and the outcome. Which variable do you think will be the most important in determining CO2 emissions? Which provides the least amount of helpful information for determining CO2 emissions? Add your responses as comments after your code."
   ]
  },
  {
   "cell_type": "code",
   "execution_count": 47,
   "metadata": {},
   "outputs": [
    {
     "data": {
      "text/html": [
       "<div>\n",
       "<style scoped>\n",
       "    .dataframe tbody tr th:only-of-type {\n",
       "        vertical-align: middle;\n",
       "    }\n",
       "\n",
       "    .dataframe tbody tr th {\n",
       "        vertical-align: top;\n",
       "    }\n",
       "\n",
       "    .dataframe thead th {\n",
       "        text-align: right;\n",
       "    }\n",
       "</style>\n",
       "<table border=\"1\" class=\"dataframe\">\n",
       "  <thead>\n",
       "    <tr style=\"text-align: right;\">\n",
       "      <th></th>\n",
       "      <th>Year</th>\n",
       "      <th>Cylinders</th>\n",
       "      <th>Fuel Barrels/Year</th>\n",
       "      <th>Combined MPG</th>\n",
       "      <th>Fuel Cost/Year</th>\n",
       "      <th>CO2 Emission Grams/Mile</th>\n",
       "    </tr>\n",
       "  </thead>\n",
       "  <tbody>\n",
       "    <tr>\n",
       "      <th>0</th>\n",
       "      <td>1984</td>\n",
       "      <td>4.0</td>\n",
       "      <td>19.388824</td>\n",
       "      <td>17</td>\n",
       "      <td>1950</td>\n",
       "      <td>522.764706</td>\n",
       "    </tr>\n",
       "    <tr>\n",
       "      <th>1</th>\n",
       "      <td>1984</td>\n",
       "      <td>6.0</td>\n",
       "      <td>25.354615</td>\n",
       "      <td>13</td>\n",
       "      <td>2550</td>\n",
       "      <td>683.615385</td>\n",
       "    </tr>\n",
       "    <tr>\n",
       "      <th>2</th>\n",
       "      <td>1985</td>\n",
       "      <td>4.0</td>\n",
       "      <td>20.600625</td>\n",
       "      <td>16</td>\n",
       "      <td>2100</td>\n",
       "      <td>555.437500</td>\n",
       "    </tr>\n",
       "    <tr>\n",
       "      <th>3</th>\n",
       "      <td>1985</td>\n",
       "      <td>6.0</td>\n",
       "      <td>25.354615</td>\n",
       "      <td>13</td>\n",
       "      <td>2550</td>\n",
       "      <td>683.615385</td>\n",
       "    </tr>\n",
       "    <tr>\n",
       "      <th>4</th>\n",
       "      <td>1987</td>\n",
       "      <td>6.0</td>\n",
       "      <td>20.600625</td>\n",
       "      <td>16</td>\n",
       "      <td>2550</td>\n",
       "      <td>555.437500</td>\n",
       "    </tr>\n",
       "  </tbody>\n",
       "</table>\n",
       "</div>"
      ],
      "text/plain": [
       "   Year  Cylinders  Fuel Barrels/Year  Combined MPG  Fuel Cost/Year  \\\n",
       "0  1984        4.0          19.388824            17            1950   \n",
       "1  1984        6.0          25.354615            13            2550   \n",
       "2  1985        4.0          20.600625            16            2100   \n",
       "3  1985        6.0          25.354615            13            2550   \n",
       "4  1987        6.0          20.600625            16            2550   \n",
       "\n",
       "   CO2 Emission Grams/Mile  \n",
       "0               522.764706  \n",
       "1               683.615385  \n",
       "2               555.437500  \n",
       "3               683.615385  \n",
       "4               555.437500  "
      ]
     },
     "execution_count": 47,
     "metadata": {},
     "output_type": "execute_result"
    }
   ],
   "source": [
    "#Primero hay que hacer un data frame que solo contenga aqellas columnas que\n",
    "# requerimos >\n",
    "\n",
    "vehicles_analysis = vehicles[['Year', 'Cylinders', 'Fuel Barrels/Year', 'Combined MPG', 'Fuel Cost/Year', 'CO2 Emission Grams/Mile']]\n",
    "vehicles_analysis.head()"
   ]
  },
  {
   "cell_type": "code",
   "execution_count": 51,
   "metadata": {},
   "outputs": [
    {
     "name": "stdout",
     "output_type": "stream",
     "text": [
      "Year                      -0.222300\n",
      "Cylinders                  0.752393\n",
      "Fuel Barrels/Year          0.986189\n",
      "Combined MPG              -0.926229\n",
      "Fuel Cost/Year             0.930865\n",
      "CO2 Emission Grams/Mile    1.000000\n",
      "Name: CO2 Emission Grams/Mile, dtype: float64\n"
     ]
    }
   ],
   "source": [
    "# Después, hacemos la revisión de las correlaciones >\n",
    "\n",
    "print(vehicles_analysis.corr()['CO2 Emission Grams/Mile'])\n",
    "\n",
    "### Comentarios y conclusión >\n",
    "\n",
    "#Se observa una fuerta relación directa con [Fuel Barrels/Year] y [Fuel Cost/Year]\n",
    "#así mismo, una fuerte relación inversa con [Combined MPG]\n",
    "\n",
    "#La variable que menos información util nos muestra respecto a las emisiones de CO2\n",
    "#es [Year]\n",
    "\n",
    "#[Cylinders] podría proporcionar un poco de información."
   ]
  },
  {
   "cell_type": "markdown",
   "metadata": {},
   "source": [
    "Build a regression model for this data. What type of regression are you using? Add your responses as comments after your code."
   ]
  },
  {
   "cell_type": "code",
   "execution_count": 54,
   "metadata": {},
   "outputs": [],
   "source": [
    "vehicles_analysis2 = vehicles[['Year', 'Cylinders', 'Fuel Barrels/Year', 'Combined MPG', 'Fuel Cost/Year']]"
   ]
  },
  {
   "cell_type": "code",
   "execution_count": 61,
   "metadata": {},
   "outputs": [],
   "source": [
    "modelo = sm.OLS(vehicles['CO2 Emission Grams/Mile'],vehicles_analysis2)\n",
    "\n",
    "resultados = modelo.fit()"
   ]
  },
  {
   "cell_type": "markdown",
   "metadata": {},
   "source": [
    "Print your regression summary, and interpret the results. What are the most important varibles in your model and why? What can conclusions can you draw from your model and how confident in these conclusions are you? Add your responses as comments after your code."
   ]
  },
  {
   "cell_type": "code",
   "execution_count": 60,
   "metadata": {},
   "outputs": [
    {
     "name": "stdout",
     "output_type": "stream",
     "text": [
      "                                   OLS Regression Results                                   \n",
      "============================================================================================\n",
      "Dep. Variable:     CO2 Emission Grams/Mile   R-squared (uncentered):                   0.999\n",
      "Model:                                 OLS   Adj. R-squared (uncentered):              0.999\n",
      "Method:                      Least Squares   F-statistic:                          6.092e+06\n",
      "Date:                     Wed, 10 Feb 2021   Prob (F-statistic):                        0.00\n",
      "Time:                             20:05:03   Log-Likelihood:                     -1.5250e+05\n",
      "No. Observations:                    35952   AIC:                                  3.050e+05\n",
      "Df Residuals:                        35947   BIC:                                  3.050e+05\n",
      "Df Model:                                5                                                  \n",
      "Covariance Type:                 nonrobust                                                  \n",
      "=====================================================================================\n",
      "                        coef    std err          t      P>|t|      [0.025      0.975]\n",
      "-------------------------------------------------------------------------------------\n",
      "Year                  0.0630      0.001     74.153      0.000       0.061       0.065\n",
      "Cylinders             0.8873      0.081     10.952      0.000       0.729       1.046\n",
      "Fuel Barrels/Year    19.8588      0.059    337.001      0.000      19.743      19.974\n",
      "Combined MPG         -3.0509      0.043    -70.368      0.000      -3.136      -2.966\n",
      "Fuel Cost/Year        0.0292      0.000     60.084      0.000       0.028       0.030\n",
      "==============================================================================\n",
      "Omnibus:                    72934.517   Durbin-Watson:                   0.757\n",
      "Prob(Omnibus):                  0.000   Jarque-Bera (JB):        287219470.909\n",
      "Skew:                          16.861   Prob(JB):                         0.00\n",
      "Kurtosis:                     439.575   Cond. No.                     2.54e+03\n",
      "==============================================================================\n",
      "\n",
      "Notes:\n",
      "[1] R² is computed without centering (uncentered) since the model does not contain a constant.\n",
      "[2] Standard Errors assume that the covariance matrix of the errors is correctly specified.\n",
      "[3] The condition number is large, 2.54e+03. This might indicate that there are\n",
      "strong multicollinearity or other numerical problems.\n"
     ]
    }
   ],
   "source": [
    "print(resultados.summary())\n",
    "#Comentario abajo"
   ]
  },
  {
   "cell_type": "markdown",
   "metadata": {},
   "source": [
    "## Bonus Challenge: Error Analysis"
   ]
  },
  {
   "cell_type": "markdown",
   "metadata": {},
   "source": [
    "I am suspicious about the last few parties I have thrown: it seems that the more people I invite the more people are unable to attend. To know if my hunch is supported by data, I have decided to do an analysis. I have collected my data in the table below, where X is the number of people I invited, and Y is the number of people who attended. \n",
    "\n",
    "|  X |  Y |\n",
    "|----|----|\n",
    "| 1  |  1 |\n",
    "| 3  |  2 |\n",
    "| 4  |  4 |\n",
    "| 6  |  4 |\n",
    "| 8  |  5 |\n",
    "| 9  |  7 |\n",
    "| 11 |  8 |\n",
    "| 14 |  13 |"
   ]
  },
  {
   "cell_type": "markdown",
   "metadata": {},
   "source": [
    "We want to know if the relationship modeled by the two random variables is linear or not, and therefore if it is appropriate to model it with a linear regression. \n",
    "First, build a dataframe with the data. "
   ]
  },
  {
   "cell_type": "code",
   "execution_count": 75,
   "metadata": {},
   "outputs": [
    {
     "data": {
      "text/html": [
       "<div>\n",
       "<style scoped>\n",
       "    .dataframe tbody tr th:only-of-type {\n",
       "        vertical-align: middle;\n",
       "    }\n",
       "\n",
       "    .dataframe tbody tr th {\n",
       "        vertical-align: top;\n",
       "    }\n",
       "\n",
       "    .dataframe thead th {\n",
       "        text-align: right;\n",
       "    }\n",
       "</style>\n",
       "<table border=\"1\" class=\"dataframe\">\n",
       "  <thead>\n",
       "    <tr style=\"text-align: right;\">\n",
       "      <th></th>\n",
       "      <th>invited</th>\n",
       "      <th>attended</th>\n",
       "    </tr>\n",
       "  </thead>\n",
       "  <tbody>\n",
       "    <tr>\n",
       "      <th>0</th>\n",
       "      <td>1</td>\n",
       "      <td>1</td>\n",
       "    </tr>\n",
       "    <tr>\n",
       "      <th>1</th>\n",
       "      <td>3</td>\n",
       "      <td>2</td>\n",
       "    </tr>\n",
       "  </tbody>\n",
       "</table>\n",
       "</div>"
      ],
      "text/plain": [
       "   invited  attended\n",
       "0        1         1\n",
       "1        3         2"
      ]
     },
     "execution_count": 75,
     "metadata": {},
     "output_type": "execute_result"
    }
   ],
   "source": [
    "party_data = pd.DataFrame({'invited':[1,3,4,6,8,9,11,14],'attended':[1,2,4,4,5,7,8,13]})\n",
    "party_data[:2]"
   ]
  },
  {
   "cell_type": "markdown",
   "metadata": {},
   "source": [
    "Draw a dispersion diagram (scatter plot) for the data, and fit a regression line."
   ]
  },
  {
   "cell_type": "code",
   "execution_count": 76,
   "metadata": {},
   "outputs": [
    {
     "data": {
      "image/png": "[encoded data removed]",
      "text/plain": [
       "<Figure size 432x288 with 1 Axes>"
      ]
     },
     "metadata": {
      "needs_background": "light"
     },
     "output_type": "display_data"
    }
   ],
   "source": [
    "party_data.plot.scatter(x='invited',y='attended');"
   ]
  },
  {
   "cell_type": "markdown",
   "metadata": {},
   "source": [
    "What do you see? What does this plot tell you about the likely relationship between the variables? Print the results from your regression."
   ]
  },
  {
   "cell_type": "code",
   "execution_count": 2,
   "metadata": {},
   "outputs": [],
   "source": [
    "# Your response here. \n",
    "\n",
    "# There is a kind of relation between those variebles. However, \n",
    "# it is not very clear."
   ]
  },
  {
   "cell_type": "code",
   "execution_count": 80,
   "metadata": {},
   "outputs": [],
   "source": [
    "constant = sm.add_constant(party_data,'invited')\n",
    "model = sm.OLS(party_data['attended'],constant)\n",
    "results = model.fit()"
   ]
  },
  {
   "cell_type": "code",
   "execution_count": 81,
   "metadata": {},
   "outputs": [
    {
     "name": "stdout",
     "output_type": "stream",
     "text": [
      "                            OLS Regression Results                            \n",
      "==============================================================================\n",
      "Dep. Variable:               attended   R-squared:                       1.000\n",
      "Model:                            OLS   Adj. R-squared:                  1.000\n",
      "Method:                 Least Squares   F-statistic:                 6.917e+29\n",
      "Date:                Wed, 10 Feb 2021   Prob (F-statistic):           2.48e-74\n",
      "Time:                        20:32:20   Log-Likelihood:                 249.64\n",
      "No. Observations:                   8   AIC:                            -493.3\n",
      "Df Residuals:                       5   BIC:                            -493.0\n",
      "Df Model:                           2                                         \n",
      "Covariance Type:            nonrobust                                         \n",
      "==============================================================================\n",
      "                 coef    std err          t      P>|t|      [0.025      0.975]\n",
      "------------------------------------------------------------------------------\n",
      "const      -6.661e-16   6.22e-15     -0.107      0.919   -1.66e-14    1.53e-14\n",
      "invited      1.11e-15   2.86e-15      0.388      0.714   -6.24e-15    8.46e-15\n",
      "attended       1.0000   3.25e-15   3.07e+14      0.000       1.000       1.000\n",
      "==============================================================================\n",
      "Omnibus:                        0.841   Durbin-Watson:                   0.073\n",
      "Prob(Omnibus):                  0.657   Jarque-Bera (JB):                0.549\n",
      "Skew:                          -0.001   Prob(JB):                        0.760\n",
      "Kurtosis:                       1.717   Cond. No.                         22.3\n",
      "==============================================================================\n",
      "\n",
      "Notes:\n",
      "[1] Standard Errors assume that the covariance matrix of the errors is correctly specified.\n"
     ]
    },
    {
     "name": "stderr",
     "output_type": "stream",
     "text": [
      "c:\\users\\user\\appdata\\local\\programs\\python\\python39\\lib\\site-packages\\scipy\\stats\\stats.py:1603: UserWarning: kurtosistest only valid for n>=20 ... continuing anyway, n=8\n",
      "  warnings.warn(\"kurtosistest only valid for n>=20 ... continuing \"\n"
     ]
    }
   ],
   "source": [
    "print(results.summary())"
   ]
  },
  {
   "cell_type": "markdown",
   "metadata": {},
   "source": [
    "Do you see any problematic points, or outliers, in your data? Remove these points and recalculate your regression. Print the new dispersion diagram with your new model and the results of your model. "
   ]
  },
  {
   "cell_type": "code",
   "execution_count": null,
   "metadata": {},
   "outputs": [],
   "source": [
    "# EL último dato hace que el modelo no tenga sentido. será eliminado"
   ]
  },
  {
   "cell_type": "code",
   "execution_count": 90,
   "metadata": {},
   "outputs": [],
   "source": [
    "party_data_fixed = pd.DataFrame({'invited':[1,3,4,6,8,9,11], 'attended': [1,2,4,4,5,7,8]})\n",
    "\n",
    "constant2 = sm.add_constant(party_data_fixed,'invited')\n",
    "model = sm.OLS(party_data_fixed['attended'],constant)\n",
    "results = model.fit()"
   ]
  },
  {
   "cell_type": "code",
   "execution_count": 91,
   "metadata": {},
   "outputs": [
    {
     "name": "stdout",
     "output_type": "stream",
     "text": [
      "                            OLS Regression Results                            \n",
      "==============================================================================\n",
      "Dep. Variable:               attended   R-squared:                       1.000\n",
      "Model:                            OLS   Adj. R-squared:                  1.000\n",
      "Method:                 Least Squares   F-statistic:                 1.437e+30\n",
      "Date:                Wed, 10 Feb 2021   Prob (F-statistic):           1.94e-60\n",
      "Time:                        20:42:08   Log-Likelihood:                 224.79\n",
      "No. Observations:                   7   AIC:                            -443.6\n",
      "Df Residuals:                       4   BIC:                            -443.7\n",
      "Df Model:                           2                                         \n",
      "Covariance Type:            nonrobust                                         \n",
      "==============================================================================\n",
      "                 coef    std err          t      P>|t|      [0.025      0.975]\n",
      "------------------------------------------------------------------------------\n",
      "const       8.882e-16   2.96e-15      0.300      0.779   -7.32e-15    9.09e-15\n",
      "invited     4.441e-16   1.75e-15      0.254      0.812   -4.41e-15    5.29e-15\n",
      "attended       1.0000   2.48e-15   4.03e+14      0.000       1.000       1.000\n",
      "==============================================================================\n",
      "Omnibus:                          nan   Durbin-Watson:                   0.038\n",
      "Prob(Omnibus):                    nan   Jarque-Bera (JB):                0.765\n",
      "Skew:                           0.209   Prob(JB):                        0.682\n",
      "Kurtosis:                       1.435   Cond. No.                         20.4\n",
      "==============================================================================\n",
      "\n",
      "Notes:\n",
      "[1] Standard Errors assume that the covariance matrix of the errors is correctly specified.\n"
     ]
    },
    {
     "name": "stderr",
     "output_type": "stream",
     "text": [
      "c:\\users\\user\\appdata\\local\\programs\\python\\python39\\lib\\site-packages\\statsmodels\\stats\\stattools.py:74: ValueWarning: omni_normtest is not valid with less than 8 observations; 7 samples were given.\n",
      "  warn(\"omni_normtest is not valid with less than 8 observations; %i \"\n"
     ]
    }
   ],
   "source": [
    "print(results.summary())"
   ]
  },
  {
   "cell_type": "code",
   "execution_count": 98,
   "metadata": {},
   "outputs": [
    {
     "data": {
      "image/png": "[encoded data removed]",
      "text/plain": [
       "<Figure size 432x288 with 1 Axes>"
      ]
     },
     "metadata": {
      "needs_background": "light"
     },
     "output_type": "display_data"
    }
   ],
   "source": [
    "# Graph:\n",
    "plt.scatter(party_data_fixed.invited,party_data_fixed.attended);"
   ]
  },
  {
   "cell_type": "markdown",
   "metadata": {},
   "source": [
    "What changed? Based on the results of the two models and your graphs, what can you say about the form of the data with the problematic point and without it?"
   ]
  },
  {
   "cell_type": "code",
   "execution_count": null,
   "metadata": {},
   "outputs": [],
   "source": [
    "# Your response here. \n",
    "\n",
    "#The trend can be see clearly without the problematic point."
   ]
  }
 ],
 "metadata": {
  "kernelspec": {
   "display_name": "Python 3",
   "language": "python",
   "name": "python3"
  },
  "language_info": {
   "codemirror_mode": {
    "name": "ipython",
    "version": 3
   },
   "file_extension": ".py",
   "mimetype": "text/x-python",
   "name": "python",
   "nbconvert_exporter": "python",
   "pygments_lexer": "ipython3",
   "version": "3.9.0"
  }
 },
 "nbformat": 4,
 "nbformat_minor": 2
}
