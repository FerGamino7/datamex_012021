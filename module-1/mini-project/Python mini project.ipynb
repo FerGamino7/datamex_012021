{
 "cells": [
  {
   "cell_type": "markdown",
   "metadata": {},
   "source": [
    "# Star Wars Knowledge Game"
   ]
  },
  {
   "cell_type": "code",
   "execution_count": 1,
   "metadata": {},
   "outputs": [],
   "source": [
    "import random"
   ]
  },
  {
   "cell_type": "code",
   "execution_count": 2,
   "metadata": {},
   "outputs": [
    {
     "name": "stdout",
     "output_type": "stream",
     "text": [
      "What is your name? \n"
     ]
    }
   ],
   "source": [
    "name = input(\"What is your name? \")"
   ]
  },
  {
   "cell_type": "code",
   "execution_count": 3,
   "metadata": {},
   "outputs": [
    {
     "name": "stdout",
     "output_type": "stream",
     "text": [
      "Good luck ! \n"
     ]
    }
   ],
   "source": [
    "print(\"Good luck !\", name)"
   ]
  },
  {
   "cell_type": "markdown",
   "metadata": {},
   "source": [
    "Instructions:\n",
    "you would be given certain clue and you should guess what we are talking about.\n",
    "It could be a character, planet, species or relegion of the Star Wars universe.\n",
    "Don't hesitate to check Wookipedia for the correct spelling. (Tip: Answers are a single word.)\n",
    "Link: \n",
    "https://starwars.fandom.com/wiki/Main_Page\n",
    "You have 2 turns"
   ]
  },
  {
   "cell_type": "code",
   "execution_count": 4,
   "metadata": {},
   "outputs": [
    {
     "name": "stdout",
     "output_type": "stream",
     "text": [
      "{'anakin': 'Darth Vader´s name before he turned to the dark side?', 'yoda': 'Grand Master of the Jedi Order before the Empire?', 'ewoks': 'teddy bear appearance alien that lived in a forest moon?', 'jedi': 'religious order of protectors devoted to the light side of the Force?', 'sith': 'Ancient religious order of Force-wielders devoted to the dark side of the Force.', 'tatooine': 'Homeworld of Anakin and Luke Skywalker'}\n"
     ]
    }
   ],
   "source": [
    "#Question bank\n",
    "\n",
    "q_bank = {\n",
    "\"anakin\": \"Darth Vader´s name before he turned to the dark side?\",\n",
    "\"yoda\":\"Grand Master of the Jedi Order before the Empire?\",\n",
    "\"ewoks\": \"teddy bear appearance alien that lived in a forest moon?\",\n",
    "\"jedi\": \"religious order of protectors devoted to the light side of the Force?\",\n",
    "\"sith\":\"Ancient religious order of Force-wielders devoted to the dark side of the Force.\",\n",
    "\"tatooine\":\"Homeworld of Anakin and Luke Skywalker\"\n",
    "}\n",
    "print(q_bank)"
   ]
  },
  {
   "cell_type": "code",
   "execution_count": 5,
   "metadata": {
    "scrolled": true
   },
   "outputs": [],
   "source": [
    "answer, question = random.choice(list(q_bank.items()))"
   ]
  },
  {
   "cell_type": "code",
   "execution_count": 6,
   "metadata": {},
   "outputs": [],
   "source": [
    "#print(answer,question)"
   ]
  },
  {
   "cell_type": "code",
   "execution_count": 7,
   "metadata": {},
   "outputs": [
    {
     "name": "stderr",
     "output_type": "stream",
     "text": [
      "<ipython-input-7-14ec27c98c1d>:1: DeprecationWarning: Sampling from a set deprecated\n",
      "since Python 3.9 and will be removed in a subsequent version.\n",
      "  quiz = random.sample(q_bank.items(),2)\n"
     ]
    }
   ],
   "source": [
    "quiz = random.sample(q_bank.items(),2)\n",
    "#type(quiz)"
   ]
  },
  {
   "cell_type": "code",
   "execution_count": 8,
   "metadata": {},
   "outputs": [
    {
     "name": "stdout",
     "output_type": "stream",
     "text": [
      "[('tatooine', 'Homeworld of Anakin and Luke Skywalker'), ('ewoks', 'teddy bear appearance alien that lived in a forest moon?')]\n"
     ]
    }
   ],
   "source": [
    "print(quiz)"
   ]
  },
  {
   "cell_type": "code",
   "execution_count": 9,
   "metadata": {},
   "outputs": [
    {
     "name": "stdout",
     "output_type": "stream",
     "text": [
      "Take a guess...\n"
     ]
    }
   ],
   "source": [
    "print(\"Take a guess...\")"
   ]
  },
  {
   "cell_type": "raw",
   "metadata": {},
   "source": [
    "for i in quiz:\n",
    "    print(i[1])"
   ]
  },
  {
   "cell_type": "raw",
   "metadata": {},
   "source": [
    "player_answer = input(\"Answer: \").lower()\n",
    "print(player_answer)"
   ]
  },
  {
   "cell_type": "code",
   "execution_count": 11,
   "metadata": {},
   "outputs": [
    {
     "name": "stdout",
     "output_type": "stream",
     "text": [
      "Homeworld of Anakin and Luke Skywalker\n",
      "Answer: tatooine\n",
      "Correct!\n",
      "teddy bear appearance alien that lived in a forest moon?\n",
      "Answer: ewoks\n",
      "Correct!\n"
     ]
    }
   ],
   "source": [
    "# JUEGO\n",
    "score = 0\n",
    "\n",
    "\n",
    "for i in quiz:\n",
    "        print(i[1])\n",
    "        player_answer = input(\"Answer: \").lower()\n",
    "        if player_answer == i[0]:\n",
    "            score += 1\n",
    "            print(\"Correct!\")\n",
    "        else:\n",
    "            print(\"much to learn you still have\")"
   ]
  },
  {
   "cell_type": "code",
   "execution_count": null,
   "metadata": {},
   "outputs": [],
   "source": [
    "# RESULTADOS\n",
    "if turns == 2:\n",
    "    print(\"End of the Star Wars quiz\")\n",
    "print(\"\\t You got right\",score,\"out of\",turns)"
   ]
  }
 ],
 "metadata": {
  "kernelspec": {
   "display_name": "Python 3",
   "language": "python",
   "name": "python3"
  },
  "language_info": {
   "codemirror_mode": {
    "name": "ipython",
    "version": 3
   },
   "file_extension": ".py",
   "mimetype": "text/x-python",
   "name": "python",
   "nbconvert_exporter": "python",
   "pygments_lexer": "ipython3",
   "version": "3.9.0"
  }
 },
 "nbformat": 4,
 "nbformat_minor": 4
}
