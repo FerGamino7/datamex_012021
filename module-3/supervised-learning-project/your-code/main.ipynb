{
 "cells": [
  {
   "cell_type": "markdown",
   "metadata": {},
   "source": [
    "## Importar bibliotecas y archivos"
   ]
  },
  {
   "cell_type": "code",
   "execution_count": 1,
   "metadata": {},
   "outputs": [],
   "source": [
    "%matplotlib inline\n",
    "import matplotlib.pyplot as plt\n",
    "import numpy as np\n",
    "import pandas as pd"
   ]
  },
  {
   "cell_type": "code",
   "execution_count": 2,
   "metadata": {},
   "outputs": [],
   "source": [
    "# float format\n",
    "pd.options.display.float_format = '{:.4f}'.format"
   ]
  },
  {
   "cell_type": "code",
   "execution_count": 3,
   "metadata": {},
   "outputs": [],
   "source": [
    "# datasets\n",
    "test = pd.read_csv('test.csv')\n",
    "train = pd.read_csv('train.csv')"
   ]
  },
  {
   "cell_type": "markdown",
   "metadata": {},
   "source": [
    "## Explorar información"
   ]
  },
  {
   "cell_type": "code",
   "execution_count": 4,
   "metadata": {},
   "outputs": [
    {
     "data": {
      "text/plain": [
       "((76161, 16), (306007, 17))"
      ]
     },
     "execution_count": 4,
     "metadata": {},
     "output_type": "execute_result"
    }
   ],
   "source": [
    "test.shape, train.shape"
   ]
  },
  {
   "cell_type": "code",
   "execution_count": 5,
   "metadata": {},
   "outputs": [
    {
     "data": {
      "text/plain": [
       "Index(['year', 'month', 'day', 'hour', 'PM2.5', 'PM10', 'SO2', 'NO2', 'CO',\n",
       "       'O3', 'TEMP', 'PRES', 'DEWP', 'RAIN', 'wd', 'WSPM', 'station'],\n",
       "      dtype='object')"
      ]
     },
     "execution_count": 5,
     "metadata": {},
     "output_type": "execute_result"
    }
   ],
   "source": [
    "train.columns"
   ]
  },
  {
   "cell_type": "code",
   "execution_count": 6,
   "metadata": {},
   "outputs": [
    {
     "data": {
      "text/plain": [
       "Index(['year', 'month', 'day', 'hour', 'PM10', 'SO2', 'NO2', 'CO', 'O3',\n",
       "       'TEMP', 'PRES', 'DEWP', 'RAIN', 'wd', 'WSPM', 'station'],\n",
       "      dtype='object')"
      ]
     },
     "execution_count": 6,
     "metadata": {},
     "output_type": "execute_result"
    }
   ],
   "source": [
    "test.columns"
   ]
  },
  {
   "cell_type": "markdown",
   "metadata": {},
   "source": [
    "La columna que le falta a test es la de 'PM2.5'"
   ]
  },
  {
   "cell_type": "code",
   "execution_count": 7,
   "metadata": {},
   "outputs": [
    {
     "data": {
      "text/html": [
       "<div>\n",
       "<style scoped>\n",
       "    .dataframe tbody tr th:only-of-type {\n",
       "        vertical-align: middle;\n",
       "    }\n",
       "\n",
       "    .dataframe tbody tr th {\n",
       "        vertical-align: top;\n",
       "    }\n",
       "\n",
       "    .dataframe thead th {\n",
       "        text-align: right;\n",
       "    }\n",
       "</style>\n",
       "<table border=\"1\" class=\"dataframe\">\n",
       "  <thead>\n",
       "    <tr style=\"text-align: right;\">\n",
       "      <th></th>\n",
       "      <th>year</th>\n",
       "      <th>month</th>\n",
       "      <th>day</th>\n",
       "      <th>hour</th>\n",
       "      <th>PM2.5</th>\n",
       "      <th>PM10</th>\n",
       "      <th>SO2</th>\n",
       "      <th>NO2</th>\n",
       "      <th>CO</th>\n",
       "      <th>O3</th>\n",
       "      <th>TEMP</th>\n",
       "      <th>PRES</th>\n",
       "      <th>DEWP</th>\n",
       "      <th>RAIN</th>\n",
       "      <th>wd</th>\n",
       "      <th>WSPM</th>\n",
       "      <th>station</th>\n",
       "    </tr>\n",
       "  </thead>\n",
       "  <tbody>\n",
       "    <tr>\n",
       "      <th>0</th>\n",
       "      <td>2013</td>\n",
       "      <td>3</td>\n",
       "      <td>1</td>\n",
       "      <td>0</td>\n",
       "      <td>4.0000</td>\n",
       "      <td>4.0000</td>\n",
       "      <td>4.0000</td>\n",
       "      <td>7.0000</td>\n",
       "      <td>300.0000</td>\n",
       "      <td>77.0000</td>\n",
       "      <td>-0.7000</td>\n",
       "      <td>1023.0000</td>\n",
       "      <td>-18.8000</td>\n",
       "      <td>0.0000</td>\n",
       "      <td>NNW</td>\n",
       "      <td>4.4000</td>\n",
       "      <td>Aotizhongxin</td>\n",
       "    </tr>\n",
       "    <tr>\n",
       "      <th>1</th>\n",
       "      <td>2013</td>\n",
       "      <td>3</td>\n",
       "      <td>1</td>\n",
       "      <td>1</td>\n",
       "      <td>8.0000</td>\n",
       "      <td>8.0000</td>\n",
       "      <td>4.0000</td>\n",
       "      <td>7.0000</td>\n",
       "      <td>300.0000</td>\n",
       "      <td>77.0000</td>\n",
       "      <td>-1.1000</td>\n",
       "      <td>1023.2000</td>\n",
       "      <td>-18.2000</td>\n",
       "      <td>0.0000</td>\n",
       "      <td>N</td>\n",
       "      <td>4.7000</td>\n",
       "      <td>Aotizhongxin</td>\n",
       "    </tr>\n",
       "    <tr>\n",
       "      <th>2</th>\n",
       "      <td>2013</td>\n",
       "      <td>3</td>\n",
       "      <td>1</td>\n",
       "      <td>4</td>\n",
       "      <td>3.0000</td>\n",
       "      <td>3.0000</td>\n",
       "      <td>12.0000</td>\n",
       "      <td>12.0000</td>\n",
       "      <td>300.0000</td>\n",
       "      <td>72.0000</td>\n",
       "      <td>-2.0000</td>\n",
       "      <td>1025.2000</td>\n",
       "      <td>-19.5000</td>\n",
       "      <td>0.0000</td>\n",
       "      <td>N</td>\n",
       "      <td>2.0000</td>\n",
       "      <td>Aotizhongxin</td>\n",
       "    </tr>\n",
       "    <tr>\n",
       "      <th>3</th>\n",
       "      <td>2013</td>\n",
       "      <td>3</td>\n",
       "      <td>1</td>\n",
       "      <td>5</td>\n",
       "      <td>5.0000</td>\n",
       "      <td>5.0000</td>\n",
       "      <td>18.0000</td>\n",
       "      <td>18.0000</td>\n",
       "      <td>400.0000</td>\n",
       "      <td>66.0000</td>\n",
       "      <td>-2.2000</td>\n",
       "      <td>1025.6000</td>\n",
       "      <td>-19.6000</td>\n",
       "      <td>0.0000</td>\n",
       "      <td>N</td>\n",
       "      <td>3.7000</td>\n",
       "      <td>Aotizhongxin</td>\n",
       "    </tr>\n",
       "    <tr>\n",
       "      <th>4</th>\n",
       "      <td>2013</td>\n",
       "      <td>3</td>\n",
       "      <td>1</td>\n",
       "      <td>6</td>\n",
       "      <td>3.0000</td>\n",
       "      <td>3.0000</td>\n",
       "      <td>18.0000</td>\n",
       "      <td>32.0000</td>\n",
       "      <td>500.0000</td>\n",
       "      <td>50.0000</td>\n",
       "      <td>-2.6000</td>\n",
       "      <td>1026.5000</td>\n",
       "      <td>-19.1000</td>\n",
       "      <td>0.0000</td>\n",
       "      <td>NNE</td>\n",
       "      <td>2.5000</td>\n",
       "      <td>Aotizhongxin</td>\n",
       "    </tr>\n",
       "  </tbody>\n",
       "</table>\n",
       "</div>"
      ],
      "text/plain": [
       "   year  month  day  hour  PM2.5   PM10     SO2     NO2       CO      O3  \\\n",
       "0  2013      3    1     0 4.0000 4.0000  4.0000  7.0000 300.0000 77.0000   \n",
       "1  2013      3    1     1 8.0000 8.0000  4.0000  7.0000 300.0000 77.0000   \n",
       "2  2013      3    1     4 3.0000 3.0000 12.0000 12.0000 300.0000 72.0000   \n",
       "3  2013      3    1     5 5.0000 5.0000 18.0000 18.0000 400.0000 66.0000   \n",
       "4  2013      3    1     6 3.0000 3.0000 18.0000 32.0000 500.0000 50.0000   \n",
       "\n",
       "     TEMP      PRES     DEWP   RAIN   wd   WSPM       station  \n",
       "0 -0.7000 1023.0000 -18.8000 0.0000  NNW 4.4000  Aotizhongxin  \n",
       "1 -1.1000 1023.2000 -18.2000 0.0000    N 4.7000  Aotizhongxin  \n",
       "2 -2.0000 1025.2000 -19.5000 0.0000    N 2.0000  Aotizhongxin  \n",
       "3 -2.2000 1025.6000 -19.6000 0.0000    N 3.7000  Aotizhongxin  \n",
       "4 -2.6000 1026.5000 -19.1000 0.0000  NNE 2.5000  Aotizhongxin  "
      ]
     },
     "execution_count": 7,
     "metadata": {},
     "output_type": "execute_result"
    }
   ],
   "source": [
    "train.head()"
   ]
  },
  {
   "cell_type": "code",
   "execution_count": 8,
   "metadata": {},
   "outputs": [
    {
     "data": {
      "text/html": [
       "<div>\n",
       "<style scoped>\n",
       "    .dataframe tbody tr th:only-of-type {\n",
       "        vertical-align: middle;\n",
       "    }\n",
       "\n",
       "    .dataframe tbody tr th {\n",
       "        vertical-align: top;\n",
       "    }\n",
       "\n",
       "    .dataframe thead th {\n",
       "        text-align: right;\n",
       "    }\n",
       "</style>\n",
       "<table border=\"1\" class=\"dataframe\">\n",
       "  <thead>\n",
       "    <tr style=\"text-align: right;\">\n",
       "      <th></th>\n",
       "      <th>year</th>\n",
       "      <th>month</th>\n",
       "      <th>day</th>\n",
       "      <th>hour</th>\n",
       "      <th>PM2.5</th>\n",
       "      <th>PM10</th>\n",
       "      <th>SO2</th>\n",
       "      <th>NO2</th>\n",
       "      <th>CO</th>\n",
       "      <th>O3</th>\n",
       "      <th>TEMP</th>\n",
       "      <th>PRES</th>\n",
       "      <th>DEWP</th>\n",
       "      <th>RAIN</th>\n",
       "      <th>WSPM</th>\n",
       "    </tr>\n",
       "  </thead>\n",
       "  <tbody>\n",
       "    <tr>\n",
       "      <th>count</th>\n",
       "      <td>306007.0000</td>\n",
       "      <td>306007.0000</td>\n",
       "      <td>306007.0000</td>\n",
       "      <td>306007.0000</td>\n",
       "      <td>306007.0000</td>\n",
       "      <td>306007.0000</td>\n",
       "      <td>306007.0000</td>\n",
       "      <td>306007.0000</td>\n",
       "      <td>306007.0000</td>\n",
       "      <td>306007.0000</td>\n",
       "      <td>306007.0000</td>\n",
       "      <td>306007.0000</td>\n",
       "      <td>306007.0000</td>\n",
       "      <td>306007.0000</td>\n",
       "      <td>306007.0000</td>\n",
       "    </tr>\n",
       "    <tr>\n",
       "      <th>mean</th>\n",
       "      <td>2014.7135</td>\n",
       "      <td>6.4820</td>\n",
       "      <td>15.7108</td>\n",
       "      <td>11.5765</td>\n",
       "      <td>79.3684</td>\n",
       "      <td>104.5362</td>\n",
       "      <td>15.6463</td>\n",
       "      <td>50.5752</td>\n",
       "      <td>1229.0649</td>\n",
       "      <td>57.3382</td>\n",
       "      <td>13.5307</td>\n",
       "      <td>1010.8046</td>\n",
       "      <td>2.4285</td>\n",
       "      <td>0.0654</td>\n",
       "      <td>1.7380</td>\n",
       "    </tr>\n",
       "    <tr>\n",
       "      <th>std</th>\n",
       "      <td>1.1597</td>\n",
       "      <td>3.4478</td>\n",
       "      <td>8.7970</td>\n",
       "      <td>6.9333</td>\n",
       "      <td>80.0549</td>\n",
       "      <td>91.2367</td>\n",
       "      <td>21.3227</td>\n",
       "      <td>35.0492</td>\n",
       "      <td>1155.3297</td>\n",
       "      <td>56.6731</td>\n",
       "      <td>11.4180</td>\n",
       "      <td>10.4483</td>\n",
       "      <td>13.7953</td>\n",
       "      <td>0.8202</td>\n",
       "      <td>1.2416</td>\n",
       "    </tr>\n",
       "    <tr>\n",
       "      <th>min</th>\n",
       "      <td>2013.0000</td>\n",
       "      <td>1.0000</td>\n",
       "      <td>1.0000</td>\n",
       "      <td>0.0000</td>\n",
       "      <td>2.0000</td>\n",
       "      <td>2.0000</td>\n",
       "      <td>0.2856</td>\n",
       "      <td>2.0000</td>\n",
       "      <td>100.0000</td>\n",
       "      <td>0.2142</td>\n",
       "      <td>-19.9000</td>\n",
       "      <td>982.4000</td>\n",
       "      <td>-36.0000</td>\n",
       "      <td>0.0000</td>\n",
       "      <td>0.0000</td>\n",
       "    </tr>\n",
       "    <tr>\n",
       "      <th>25%</th>\n",
       "      <td>2014.0000</td>\n",
       "      <td>3.0000</td>\n",
       "      <td>8.0000</td>\n",
       "      <td>6.0000</td>\n",
       "      <td>20.0000</td>\n",
       "      <td>36.0000</td>\n",
       "      <td>2.0000</td>\n",
       "      <td>23.0000</td>\n",
       "      <td>500.0000</td>\n",
       "      <td>10.4958</td>\n",
       "      <td>3.1000</td>\n",
       "      <td>1002.4000</td>\n",
       "      <td>-9.0000</td>\n",
       "      <td>0.0000</td>\n",
       "      <td>0.9000</td>\n",
       "    </tr>\n",
       "    <tr>\n",
       "      <th>50%</th>\n",
       "      <td>2015.0000</td>\n",
       "      <td>6.0000</td>\n",
       "      <td>16.0000</td>\n",
       "      <td>12.0000</td>\n",
       "      <td>55.0000</td>\n",
       "      <td>82.0000</td>\n",
       "      <td>7.0000</td>\n",
       "      <td>43.0000</td>\n",
       "      <td>900.0000</td>\n",
       "      <td>45.0000</td>\n",
       "      <td>14.5000</td>\n",
       "      <td>1010.4000</td>\n",
       "      <td>3.0000</td>\n",
       "      <td>0.0000</td>\n",
       "      <td>1.4000</td>\n",
       "    </tr>\n",
       "    <tr>\n",
       "      <th>75%</th>\n",
       "      <td>2016.0000</td>\n",
       "      <td>9.0000</td>\n",
       "      <td>23.0000</td>\n",
       "      <td>18.0000</td>\n",
       "      <td>110.0000</td>\n",
       "      <td>145.0000</td>\n",
       "      <td>19.0000</td>\n",
       "      <td>71.0000</td>\n",
       "      <td>1500.0000</td>\n",
       "      <td>82.0000</td>\n",
       "      <td>23.2000</td>\n",
       "      <td>1019.0000</td>\n",
       "      <td>15.1000</td>\n",
       "      <td>0.0000</td>\n",
       "      <td>2.2000</td>\n",
       "    </tr>\n",
       "    <tr>\n",
       "      <th>max</th>\n",
       "      <td>2017.0000</td>\n",
       "      <td>12.0000</td>\n",
       "      <td>31.0000</td>\n",
       "      <td>23.0000</td>\n",
       "      <td>835.0000</td>\n",
       "      <td>999.0000</td>\n",
       "      <td>500.0000</td>\n",
       "      <td>290.0000</td>\n",
       "      <td>10000.0000</td>\n",
       "      <td>1071.0000</td>\n",
       "      <td>41.6000</td>\n",
       "      <td>1042.8000</td>\n",
       "      <td>29.1000</td>\n",
       "      <td>72.5000</td>\n",
       "      <td>13.2000</td>\n",
       "    </tr>\n",
       "  </tbody>\n",
       "</table>\n",
       "</div>"
      ],
      "text/plain": [
       "             year       month         day        hour       PM2.5        PM10  \\\n",
       "count 306007.0000 306007.0000 306007.0000 306007.0000 306007.0000 306007.0000   \n",
       "mean    2014.7135      6.4820     15.7108     11.5765     79.3684    104.5362   \n",
       "std        1.1597      3.4478      8.7970      6.9333     80.0549     91.2367   \n",
       "min     2013.0000      1.0000      1.0000      0.0000      2.0000      2.0000   \n",
       "25%     2014.0000      3.0000      8.0000      6.0000     20.0000     36.0000   \n",
       "50%     2015.0000      6.0000     16.0000     12.0000     55.0000     82.0000   \n",
       "75%     2016.0000      9.0000     23.0000     18.0000    110.0000    145.0000   \n",
       "max     2017.0000     12.0000     31.0000     23.0000    835.0000    999.0000   \n",
       "\n",
       "              SO2         NO2          CO          O3        TEMP        PRES  \\\n",
       "count 306007.0000 306007.0000 306007.0000 306007.0000 306007.0000 306007.0000   \n",
       "mean      15.6463     50.5752   1229.0649     57.3382     13.5307   1010.8046   \n",
       "std       21.3227     35.0492   1155.3297     56.6731     11.4180     10.4483   \n",
       "min        0.2856      2.0000    100.0000      0.2142    -19.9000    982.4000   \n",
       "25%        2.0000     23.0000    500.0000     10.4958      3.1000   1002.4000   \n",
       "50%        7.0000     43.0000    900.0000     45.0000     14.5000   1010.4000   \n",
       "75%       19.0000     71.0000   1500.0000     82.0000     23.2000   1019.0000   \n",
       "max      500.0000    290.0000  10000.0000   1071.0000     41.6000   1042.8000   \n",
       "\n",
       "             DEWP        RAIN        WSPM  \n",
       "count 306007.0000 306007.0000 306007.0000  \n",
       "mean       2.4285      0.0654      1.7380  \n",
       "std       13.7953      0.8202      1.2416  \n",
       "min      -36.0000      0.0000      0.0000  \n",
       "25%       -9.0000      0.0000      0.9000  \n",
       "50%        3.0000      0.0000      1.4000  \n",
       "75%       15.1000      0.0000      2.2000  \n",
       "max       29.1000     72.5000     13.2000  "
      ]
     },
     "execution_count": 8,
     "metadata": {},
     "output_type": "execute_result"
    }
   ],
   "source": [
    "train.describe()"
   ]
  },
  {
   "cell_type": "markdown",
   "metadata": {},
   "source": [
    "## Limpiar información"
   ]
  },
  {
   "cell_type": "code",
   "execution_count": 9,
   "metadata": {},
   "outputs": [],
   "source": [
    "train.drop(columns=['wd','station'], inplace=True)\n",
    "test.drop(columns=['wd','station'], inplace=True)"
   ]
  },
  {
   "cell_type": "code",
   "execution_count": 10,
   "metadata": {},
   "outputs": [
    {
     "name": "stdout",
     "output_type": "stream",
     "text": [
      "Series([], dtype: int64)\n"
     ]
    },
    {
     "data": {
      "text/plain": [
       "'No hay valores vacíos'"
      ]
     },
     "execution_count": 10,
     "metadata": {},
     "output_type": "execute_result"
    }
   ],
   "source": [
    "# Check missing values\n",
    "null_rows_train = train.isna().sum()\n",
    "print(null_rows_train[null_rows_train>0])\n",
    "'No hay valores vacíos'"
   ]
  },
  {
   "cell_type": "markdown",
   "metadata": {},
   "source": [
    "## Elegir modelo"
   ]
  },
  {
   "cell_type": "markdown",
   "metadata": {},
   "source": [
    "### Tiene que ser un modelo de regresión.\n",
    "- Lineal regresion\n",
    "- Logistic Regresion\n",
    "\n",
    "\n",
    "Voy a elegir regresión lineal"
   ]
  },
  {
   "cell_type": "markdown",
   "metadata": {},
   "source": [
    "## Definir Variables"
   ]
  },
  {
   "cell_type": "code",
   "execution_count": 11,
   "metadata": {},
   "outputs": [],
   "source": [
    "from sklearn.model_selection import train_test_split\n",
    "from sklearn.linear_model import LinearRegression"
   ]
  },
  {
   "cell_type": "code",
   "execution_count": 16,
   "metadata": {},
   "outputs": [],
   "source": [
    "climate_model=LinearRegression()"
   ]
  },
  {
   "cell_type": "markdown",
   "metadata": {},
   "source": [
    "## Preparing the Data"
   ]
  },
  {
   "cell_type": "markdown",
   "metadata": {},
   "source": [
    "### Separate dataset into two parts"
   ]
  },
  {
   "cell_type": "code",
   "execution_count": 26,
   "metadata": {},
   "outputs": [],
   "source": [
    "climate_x=train.drop(columns=['PM2.5'])\n",
    "climate_y=train['PM2.5']"
   ]
  },
  {
   "cell_type": "markdown",
   "metadata": {},
   "source": [
    "### Create the model"
   ]
  },
  {
   "cell_type": "code",
   "execution_count": 27,
   "metadata": {},
   "outputs": [],
   "source": [
    "X_train, X_test, y_train, y_test = train_test_split(climate_x,climate_y,test_size=0.2,train_size=0.8,shuffle=True)"
   ]
  },
  {
   "cell_type": "code",
   "execution_count": 28,
   "metadata": {},
   "outputs": [],
   "source": [
    "climate_model.fit(climate_x,climate_y)\n",
    "y_pred=climate_model.predict(X_test)"
   ]
  },
  {
   "cell_type": "code",
   "execution_count": 33,
   "metadata": {},
   "outputs": [
    {
     "data": {
      "text/plain": [
       "array([153.30702895,  51.40843475, 172.41452371, ...,  65.54374403,\n",
       "       132.21948633,  43.44478929])"
      ]
     },
     "execution_count": 33,
     "metadata": {},
     "output_type": "execute_result"
    }
   ],
   "source": [
    "y_pred"
   ]
  },
  {
   "cell_type": "markdown",
   "metadata": {},
   "source": [
    "## Verificación R2"
   ]
  },
  {
   "cell_type": "code",
   "execution_count": 30,
   "metadata": {},
   "outputs": [
    {
     "data": {
      "text/plain": [
       "-1533.524837667911"
      ]
     },
     "execution_count": 30,
     "metadata": {},
     "output_type": "execute_result"
    }
   ],
   "source": [
    "climate_model.intercept_"
   ]
  },
  {
   "cell_type": "code",
   "execution_count": 31,
   "metadata": {},
   "outputs": [
    {
     "data": {
      "text/plain": [
       "array([ 0.57157526, -0.44003013, -0.10581221, -0.03678728,  0.54482261,\n",
       "        0.130383  ,  0.06515373,  0.02006974,  0.10086945, -1.11509064,\n",
       "        0.38190388,  1.44531738, -0.56708231, -0.50699219])"
      ]
     },
     "execution_count": 31,
     "metadata": {},
     "output_type": "execute_result"
    }
   ],
   "source": [
    "climate_model.coef_"
   ]
  },
  {
   "cell_type": "code",
   "execution_count": 32,
   "metadata": {},
   "outputs": [
    {
     "data": {
      "text/plain": [
       "0.8556838072337234"
      ]
     },
     "execution_count": 32,
     "metadata": {},
     "output_type": "execute_result"
    }
   ],
   "source": [
    "climate_model.score(climate_x, climate_y)"
   ]
  },
  {
   "cell_type": "markdown",
   "metadata": {},
   "source": [
    "## Exportar y_pred"
   ]
  },
  {
   "cell_type": "code",
   "execution_count": 38,
   "metadata": {},
   "outputs": [],
   "source": [
    "from numpy import savetxt\n",
    "savetxt('y_pred.csv', y_pred, delimiter=',')"
   ]
  }
 ],
 "metadata": {
  "kernelspec": {
   "display_name": "Python 3",
   "language": "python",
   "name": "python3"
  },
  "language_info": {
   "codemirror_mode": {
    "name": "ipython",
    "version": 3
   },
   "file_extension": ".py",
   "mimetype": "text/x-python",
   "name": "python",
   "nbconvert_exporter": "python",
   "pygments_lexer": "ipython3",
   "version": "3.9.0"
  }
 },
 "nbformat": 4,
 "nbformat_minor": 4
}
